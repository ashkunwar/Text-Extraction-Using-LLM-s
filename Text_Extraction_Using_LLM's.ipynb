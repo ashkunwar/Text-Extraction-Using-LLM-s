{
  "nbformat": 4,
  "nbformat_minor": 0,
  "metadata": {
    "colab": {
      "provenance": []
    },
    "kernelspec": {
      "name": "python3",
      "display_name": "Python 3"
    },
    "language_info": {
      "name": "python"
    }
  },
  "cells": [
    {
      "cell_type": "code",
      "execution_count": 1,
      "metadata": {
        "colab": {
          "base_uri": "https://localhost:8080/"
        },
        "collapsed": true,
        "id": "8zkGccD4A5ht",
        "outputId": "5c4f6444-ef9e-487b-e5ac-0d0eb448f770"
      },
      "outputs": [
        {
          "output_type": "stream",
          "name": "stdout",
          "text": [
            "Requirement already satisfied: pandas in /usr/local/lib/python3.11/dist-packages (2.2.2)\n",
            "Requirement already satisfied: tqdm in /usr/local/lib/python3.11/dist-packages (4.67.1)\n",
            "Collecting pdf2image\n",
            "  Downloading pdf2image-1.17.0-py3-none-any.whl.metadata (6.2 kB)\n",
            "Collecting pytesseract\n",
            "  Downloading pytesseract-0.3.13-py3-none-any.whl.metadata (11 kB)\n",
            "Collecting PyPDF2\n",
            "  Downloading pypdf2-3.0.1-py3-none-any.whl.metadata (6.8 kB)\n",
            "Collecting langchain_groq\n",
            "  Downloading langchain_groq-0.2.4-py3-none-any.whl.metadata (3.0 kB)\n",
            "Requirement already satisfied: numpy>=1.23.2 in /usr/local/lib/python3.11/dist-packages (from pandas) (1.26.4)\n",
            "Requirement already satisfied: python-dateutil>=2.8.2 in /usr/local/lib/python3.11/dist-packages (from pandas) (2.8.2)\n",
            "Requirement already satisfied: pytz>=2020.1 in /usr/local/lib/python3.11/dist-packages (from pandas) (2024.2)\n",
            "Requirement already satisfied: tzdata>=2022.7 in /usr/local/lib/python3.11/dist-packages (from pandas) (2025.1)\n",
            "Requirement already satisfied: pillow in /usr/local/lib/python3.11/dist-packages (from pdf2image) (11.1.0)\n",
            "Requirement already satisfied: packaging>=21.3 in /usr/local/lib/python3.11/dist-packages (from pytesseract) (24.2)\n",
            "Collecting groq<1,>=0.4.1 (from langchain_groq)\n",
            "  Downloading groq-0.16.0-py3-none-any.whl.metadata (14 kB)\n",
            "Collecting langchain-core<0.4.0,>=0.3.33 (from langchain_groq)\n",
            "  Downloading langchain_core-0.3.33-py3-none-any.whl.metadata (6.3 kB)\n",
            "Requirement already satisfied: anyio<5,>=3.5.0 in /usr/local/lib/python3.11/dist-packages (from groq<1,>=0.4.1->langchain_groq) (3.7.1)\n",
            "Requirement already satisfied: distro<2,>=1.7.0 in /usr/local/lib/python3.11/dist-packages (from groq<1,>=0.4.1->langchain_groq) (1.9.0)\n",
            "Requirement already satisfied: httpx<1,>=0.23.0 in /usr/local/lib/python3.11/dist-packages (from groq<1,>=0.4.1->langchain_groq) (0.28.1)\n",
            "Requirement already satisfied: pydantic<3,>=1.9.0 in /usr/local/lib/python3.11/dist-packages (from groq<1,>=0.4.1->langchain_groq) (2.10.6)\n",
            "Requirement already satisfied: sniffio in /usr/local/lib/python3.11/dist-packages (from groq<1,>=0.4.1->langchain_groq) (1.3.1)\n",
            "Requirement already satisfied: typing-extensions<5,>=4.10 in /usr/local/lib/python3.11/dist-packages (from groq<1,>=0.4.1->langchain_groq) (4.12.2)\n",
            "Requirement already satisfied: PyYAML>=5.3 in /usr/local/lib/python3.11/dist-packages (from langchain-core<0.4.0,>=0.3.33->langchain_groq) (6.0.2)\n",
            "Requirement already satisfied: jsonpatch<2.0,>=1.33 in /usr/local/lib/python3.11/dist-packages (from langchain-core<0.4.0,>=0.3.33->langchain_groq) (1.33)\n",
            "Requirement already satisfied: langsmith<0.4,>=0.1.125 in /usr/local/lib/python3.11/dist-packages (from langchain-core<0.4.0,>=0.3.33->langchain_groq) (0.3.2)\n",
            "Requirement already satisfied: tenacity!=8.4.0,<10.0.0,>=8.1.0 in /usr/local/lib/python3.11/dist-packages (from langchain-core<0.4.0,>=0.3.33->langchain_groq) (9.0.0)\n",
            "Requirement already satisfied: six>=1.5 in /usr/local/lib/python3.11/dist-packages (from python-dateutil>=2.8.2->pandas) (1.17.0)\n",
            "Requirement already satisfied: idna>=2.8 in /usr/local/lib/python3.11/dist-packages (from anyio<5,>=3.5.0->groq<1,>=0.4.1->langchain_groq) (3.10)\n",
            "Requirement already satisfied: certifi in /usr/local/lib/python3.11/dist-packages (from httpx<1,>=0.23.0->groq<1,>=0.4.1->langchain_groq) (2024.12.14)\n",
            "Requirement already satisfied: httpcore==1.* in /usr/local/lib/python3.11/dist-packages (from httpx<1,>=0.23.0->groq<1,>=0.4.1->langchain_groq) (1.0.7)\n",
            "Requirement already satisfied: h11<0.15,>=0.13 in /usr/local/lib/python3.11/dist-packages (from httpcore==1.*->httpx<1,>=0.23.0->groq<1,>=0.4.1->langchain_groq) (0.14.0)\n",
            "Requirement already satisfied: jsonpointer>=1.9 in /usr/local/lib/python3.11/dist-packages (from jsonpatch<2.0,>=1.33->langchain-core<0.4.0,>=0.3.33->langchain_groq) (3.0.0)\n",
            "Requirement already satisfied: orjson<4.0.0,>=3.9.14 in /usr/local/lib/python3.11/dist-packages (from langsmith<0.4,>=0.1.125->langchain-core<0.4.0,>=0.3.33->langchain_groq) (3.10.15)\n",
            "Requirement already satisfied: requests<3,>=2 in /usr/local/lib/python3.11/dist-packages (from langsmith<0.4,>=0.1.125->langchain-core<0.4.0,>=0.3.33->langchain_groq) (2.32.3)\n",
            "Requirement already satisfied: requests-toolbelt<2.0.0,>=1.0.0 in /usr/local/lib/python3.11/dist-packages (from langsmith<0.4,>=0.1.125->langchain-core<0.4.0,>=0.3.33->langchain_groq) (1.0.0)\n",
            "Requirement already satisfied: zstandard<0.24.0,>=0.23.0 in /usr/local/lib/python3.11/dist-packages (from langsmith<0.4,>=0.1.125->langchain-core<0.4.0,>=0.3.33->langchain_groq) (0.23.0)\n",
            "Requirement already satisfied: annotated-types>=0.6.0 in /usr/local/lib/python3.11/dist-packages (from pydantic<3,>=1.9.0->groq<1,>=0.4.1->langchain_groq) (0.7.0)\n",
            "Requirement already satisfied: pydantic-core==2.27.2 in /usr/local/lib/python3.11/dist-packages (from pydantic<3,>=1.9.0->groq<1,>=0.4.1->langchain_groq) (2.27.2)\n",
            "Requirement already satisfied: charset-normalizer<4,>=2 in /usr/local/lib/python3.11/dist-packages (from requests<3,>=2->langsmith<0.4,>=0.1.125->langchain-core<0.4.0,>=0.3.33->langchain_groq) (3.4.1)\n",
            "Requirement already satisfied: urllib3<3,>=1.21.1 in /usr/local/lib/python3.11/dist-packages (from requests<3,>=2->langsmith<0.4,>=0.1.125->langchain-core<0.4.0,>=0.3.33->langchain_groq) (2.3.0)\n",
            "Downloading pdf2image-1.17.0-py3-none-any.whl (11 kB)\n",
            "Downloading pytesseract-0.3.13-py3-none-any.whl (14 kB)\n",
            "Downloading pypdf2-3.0.1-py3-none-any.whl (232 kB)\n",
            "\u001b[2K   \u001b[90m━━━━━━━━━━━━━━━━━━━━━━━━━━━━━━━━━━━━━━━━\u001b[0m \u001b[32m232.6/232.6 kB\u001b[0m \u001b[31m7.1 MB/s\u001b[0m eta \u001b[36m0:00:00\u001b[0m\n",
            "\u001b[?25hDownloading langchain_groq-0.2.4-py3-none-any.whl (14 kB)\n",
            "Downloading groq-0.16.0-py3-none-any.whl (109 kB)\n",
            "\u001b[2K   \u001b[90m━━━━━━━━━━━━━━━━━━━━━━━━━━━━━━━━━━━━━━━━\u001b[0m \u001b[32m109.7/109.7 kB\u001b[0m \u001b[31m9.6 MB/s\u001b[0m eta \u001b[36m0:00:00\u001b[0m\n",
            "\u001b[?25hDownloading langchain_core-0.3.33-py3-none-any.whl (412 kB)\n",
            "\u001b[2K   \u001b[90m━━━━━━━━━━━━━━━━━━━━━━━━━━━━━━━━━━━━━━━━\u001b[0m \u001b[32m412.7/412.7 kB\u001b[0m \u001b[31m22.4 MB/s\u001b[0m eta \u001b[36m0:00:00\u001b[0m\n",
            "\u001b[?25hInstalling collected packages: pytesseract, PyPDF2, pdf2image, groq, langchain-core, langchain_groq\n",
            "  Attempting uninstall: langchain-core\n",
            "    Found existing installation: langchain-core 0.3.32\n",
            "    Uninstalling langchain-core-0.3.32:\n",
            "      Successfully uninstalled langchain-core-0.3.32\n",
            "Successfully installed PyPDF2-3.0.1 groq-0.16.0 langchain-core-0.3.33 langchain_groq-0.2.4 pdf2image-1.17.0 pytesseract-0.3.13\n"
          ]
        }
      ],
      "source": [
        "!pip install pandas tqdm pdf2image pytesseract PyPDF2 langchain_groq"
      ]
    },
    {
      "cell_type": "code",
      "source": [
        "!unzip \"/content/test.zip\" -d \"/content/extracted\""
      ],
      "metadata": {
        "colab": {
          "base_uri": "https://localhost:8080/"
        },
        "collapsed": true,
        "id": "tyP0uZgOA__D",
        "outputId": "a55dd4e7-ac0c-4e74-ccb7-84b8588b6761"
      },
      "execution_count": 6,
      "outputs": [
        {
          "output_type": "stream",
          "name": "stdout",
          "text": [
            "Archive:  /content/test.zip\n",
            "  inflating: /content/extracted/Test Data/Failed Formats of PDF/Sri bhavani plastics/INV-806.pdf  \n",
            "  inflating: /content/extracted/Test Data/Failed Formats of PDF/100 CUBES/Tax Invoice (6).pdf  \n",
            "  inflating: /content/extracted/Test Data/Failed Formats of PDF/SRI HARI ENTERPRISE/EDISON INVOICE 39.pdf  \n",
            "  inflating: /content/extracted/Test Data/Failed Formats of PDF/XCELLENT XEROX AND ONLINE SERVICES/GST Sales July 24.pdf  \n",
            "  inflating: /content/extracted/Test Data/Failed Formats of PDF/Sri bhavani plastics/INV-809.pdf  \n",
            "  inflating: /content/extracted/Test Data/Failed Formats of PDF/Campos Technologies/15.pdf  \n",
            "  inflating: /content/extracted/Test Data/Failed Formats of PDF/Campos Technologies/22.pdf  \n",
            "  inflating: /content/extracted/Test Data/Failed Formats of PDF/Campos Technologies/20.pdf  \n",
            "  inflating: /content/extracted/Test Data/Failed Formats of PDF/100 CUBES/IN3-100C24022601_signed.pdf  \n",
            "  inflating: /content/extracted/Test Data/Failed Formats of PDF/Opulent Duende/OD14417-sales_invoice-Mukesh_Choudhari.pdf  \n",
            "  inflating: /content/extracted/Test Data/Failed Formats of PDF/Campos Technologies/16.pdf  \n",
            "  inflating: /content/extracted/Test Data/Failed Formats of PDF/Sri bhavani plastics/INV-808.pdf  \n",
            "  inflating: /content/extracted/Test Data/Failed Formats of PDF/Campos Technologies/18.pdf  \n",
            "  inflating: /content/extracted/Test Data/Failed Formats of PDF/100 CUBES/IN2-100CMBTS01_signed.pdf  \n",
            "  inflating: /content/extracted/Test Data/Failed Formats of PDF/APAISER CONSULT- Invoice- 074.pdf  \n",
            "  inflating: /content/extracted/Test Data/Failed Formats of PDF/Campos Technologies/21.pdf  \n",
            "  inflating: /content/extracted/Test Data/Failed Formats of PDF/Sri bhavani plastics/INV-807.pdf  \n",
            "  inflating: /content/extracted/Test Data/Failed Formats of PDF/100 CUBES/IN1-100CMBTS01_signed.pdf  \n",
            "  inflating: /content/extracted/Test Data/Failed Formats of PDF/100 CUBES/IN1-100CMBSS01_signed.pdf  \n",
            "  inflating: /content/extracted/Test Data/Failed Formats of PDF/100 CUBES/IN3-100C24052504_signed.pdf  \n",
            "  inflating: /content/extracted/Test Data/Failed Formats of PDF/Campos Technologies/19.pdf  \n",
            "  inflating: /content/extracted/Test Data/Failed Formats of PDF/Campos Technologies/17.pdf  \n",
            "  inflating: /content/extracted/Test Data/Failed Formats of PDF/100 CUBES/IN2-100C23090101_signed.pdf  \n",
            "  inflating: /content/extracted/Test Data/Failed Formats of PDF/100 CUBES/IN2-PID1327250_signed.pdf  \n",
            "  inflating: /content/extracted/Test Data/Failed Formats of PDF/Sri bhavani plastics/INV-804.pdf  \n",
            "  inflating: /content/extracted/Test Data/Failed Formats of PDF/100 CUBES/IN2-100C24022601_signed.pdf  \n",
            "  inflating: /content/extracted/Test Data/Failed Formats of PDF/100 CUBES/IN5-100C24020601 (1).pdf  \n",
            "  inflating: /content/extracted/Test Data/Failed Formats of PDF/100 CUBES/IN3-PID2529864 (1).pdf  \n",
            "  inflating: /content/extracted/Test Data/Failed Formats of PDF/Sri bhavani plastics/INV-805.pdf  \n",
            "  inflating: /content/extracted/Test Data/Failed Formats of PDF/Sri bhavani plastics/INV-802.pdf  \n",
            "  inflating: /content/extracted/Test Data/Failed Formats of PDF/Sri bhavani plastics/INV-803.pdf  \n",
            "  inflating: /content/extracted/Test Data/Failed Formats of PDF/Opulent Duende/OD14415-sales_invoice-Anup_Manasseh.pdf  \n",
            "  inflating: /content/extracted/Test Data/Failed Formats of PDF/Opulent Duende/OD14427-sales_invoice-Anurag_Sikka.pdf  \n",
            "  inflating: /content/extracted/Test Data/Failed Formats of PDF/Opulent Duende/OD14420-sales_invoice-Pankaj_Sharma.pdf  \n",
            "  inflating: /content/extracted/Test Data/Failed Formats of PDF/aug24invoice_kpphometownorganics/23Jul_Invoice_639.pdf  \n",
            "  inflating: /content/extracted/Test Data/Failed Formats of PDF/aug24invoice_kpphometownorganics/08Jul_Invoice_619.pdf  \n",
            "  inflating: /content/extracted/Test Data/Failed Formats of PDF/aug24invoice_kpphometownorganics/24Jul_Invoice_640.pdf  \n",
            "  inflating: /content/extracted/Test Data/Failed Formats of PDF/aug24invoice_kpphometownorganics/10Jul_Invoice_624.pdf  \n",
            "  inflating: /content/extracted/Test Data/Failed Formats of PDF/aug24invoice_kpphometownorganics/12Jul_Invoice_627.pdf  \n",
            "  inflating: /content/extracted/Test Data/Failed Formats of PDF/aug24invoice_kpphometownorganics/14Jul_Invoice_628.pdf  \n",
            "  inflating: /content/extracted/Test Data/Failed Formats of PDF/aug24invoice_kpphometownorganics/10Jul_Invoice_622.pdf  \n",
            "  inflating: /content/extracted/Test Data/Failed Formats of PDF/aug24invoice_kpphometownorganics/23Jul_636.pdf  \n",
            "  inflating: /content/extracted/Test Data/Failed Formats of PDF/Opulent Duende/OD14422-sales_invoice-Sachin_Shilwant.pdf  \n",
            "  inflating: /content/extracted/Test Data/Failed Formats of PDF/aug24invoice_kpphometownorganics/08Jul_Invoice_621.pdf  \n",
            "  inflating: /content/extracted/Test Data/Failed Formats of PDF/aug24invoice_kpphometownorganics/10Jul_Invoice_623.pdf  \n",
            "  inflating: /content/extracted/Test Data/Failed Formats of PDF/aug24invoice_kpphometownorganics/26Jul_Invoice_641.pdf  \n",
            "  inflating: /content/extracted/Test Data/Failed Formats of PDF/aug24invoice_kpphometownorganics/08Jul_Invoice_620.pdf  \n",
            "  inflating: /content/extracted/Test Data/Failed Formats of PDF/aug24invoice_kpphometownorganics/05Jul_Invoice_618.pdf  \n",
            "  inflating: /content/extracted/Test Data/Failed Formats of PDF/aug24invoice_kpphometownorganics/21Jul_Invoice_633.pdf  \n",
            "  inflating: /content/extracted/Test Data/Failed Formats of PDF/Opulent Duende/OD14425-sales_invoice-Joyce_Supriya_Sakani.pdf  \n",
            "  inflating: /content/extracted/Test Data/Failed Formats of PDF/Opulent Duende/OD14423-sales_invoice-Pankaj_Sharma.pdf  \n",
            "  inflating: /content/extracted/Test Data/Failed Formats of PDF/aug24invoice_kpphometownorganics/19Jul_Invoice_632.pdf  \n",
            "  inflating: /content/extracted/Test Data/Failed Formats of PDF/Opulent Duende/OD14428-sales_invoice-Ravinder_Reddy_Yedulla.pdf  \n",
            "  inflating: /content/extracted/Test Data/Failed Formats of PDF/aug24invoice_kpphometownorganics/22Jul_Invoice_634.pdf  \n",
            "  inflating: /content/extracted/Test Data/Failed Formats of PDF/Opulent Duende/OD14416-sales_invoice-Ravinder_Reddy_Yedulla.pdf  \n",
            "  inflating: /content/extracted/Test Data/Failed Formats of PDF/aug24invoice_kpphometownorganics/17Jul_Invoice_630.pdf  \n",
            "  inflating: /content/extracted/Test Data/Failed Formats of PDF/aug24invoice_kpphometownorganics/23Jul_Invoice_638.pdf  \n",
            "  inflating: /content/extracted/Test Data/Failed Formats of PDF/Opulent Duende/OD14418-sales_invoice-Surendra_Munemmagari.pdf  \n",
            "  inflating: /content/extracted/Test Data/Failed Formats of PDF/Opulent Duende/OD14419-sales_invoice-Joyce_Supriya_Sakani.pdf  \n",
            "  inflating: /content/extracted/Test Data/Failed Formats of PDF/Opulent Duende/OD14421-sales_invoice-Sachin_Shilwant.pdf  \n",
            "  inflating: /content/extracted/Test Data/Failed Formats of PDF/Opulent Duende/OD14424-sales_invoice-Mukesh_Choudhari.pdf  \n",
            "  inflating: /content/extracted/Test Data/Failed Formats of PDF/aug24invoice_kpphometownorganics/26Jul_Invoice_642.pdf  \n",
            "  inflating: /content/extracted/Test Data/Failed Formats of PDF/aug24invoice_kpphometownorganics/23Jul_Invoice_637.pdf  \n",
            "  inflating: /content/extracted/Test Data/Failed Formats of PDF/aug24invoice_kpphometownorganics/30Jul_Invoice_645.pdf  \n",
            "  inflating: /content/extracted/Test Data/Failed Formats of PDF/aug24invoice_kpphometownorganics/30Jul_Invoice_644.pdf  \n",
            "  inflating: /content/extracted/Test Data/Failed Formats of PDF/aug24invoice_kpphometownorganics/17Jul_Invoice_631.pdf  \n",
            "  inflating: /content/extracted/Test Data/Failed Formats of PDF/aug24invoice_kpphometownorganics/22Jul_invoice_635.pdf  \n",
            "  inflating: /content/extracted/Test Data/Failed Formats of PDF/aug24invoice_kpphometownorganics/16Jul_Invoice_629.pdf  \n",
            "  inflating: /content/extracted/Test Data/Failed Formats of PDF/aug24invoice_kpphometownorganics/12Jul_Invoice_626.pdf  \n",
            "  inflating: /content/extracted/Test Data/Failed Formats of PDF/Opulent Duende/OD14414-sales_invoice-Ravinder_Reddy_Yedulla.pdf  \n",
            "  inflating: /content/extracted/Test Data/Failed Formats of PDF/aug24invoice_kpphometownorganics/02Jul_Invoice_614.pdf  \n",
            "  inflating: /content/extracted/Test Data/Failed Formats of PDF/aug24invoice_kpphometownorganics/03Jul_Invoice_615.pdf  \n",
            "  inflating: /content/extracted/Test Data/Failed Formats of PDF/aug24invoice_kpphometownorganics/03Jul_Invoice_617.pdf  \n",
            "  inflating: /content/extracted/Test Data/Failed Formats of PDF/aug24invoice_kpphometownorganics/10Jul_Invoice_625.pdf  \n",
            "  inflating: /content/extracted/Test Data/Failed Formats of PDF/aug24invoice_kpphometownorganics/03Jul_Invoice_616.pdf  \n",
            "  inflating: /content/extracted/Test Data/Failed Formats of PDF/aug24invoice_kpphometownorganics/28Jul_Invoice_643.pdf  \n"
          ]
        }
      ]
    },
    {
      "cell_type": "code",
      "source": [
        "import re\n",
        "import os\n",
        "import json\n",
        "import time\n",
        "import pandas as pd\n",
        "from tqdm import tqdm\n",
        "from pdf2image import convert_from_path\n",
        "import pytesseract\n",
        "from pytesseract import Output\n",
        "from PyPDF2 import PdfReader\n",
        "from langchain_groq import ChatGroq\n",
        "from langchain.schema import HumanMessage"
      ],
      "metadata": {
        "id": "ch7MFPTCEXyt"
      },
      "execution_count": 7,
      "outputs": []
    },
    {
      "cell_type": "code",
      "source": [
        "MIN_TEXT_LENGTH = 50       # Minimum text length before going to OCR\n",
        "MAX_CHUNK_SIZE = 4000      # Maximum characters per chunk\n",
        "RETRY_DELAY = 20           # Seconds to wait between retries (if some pdfs cannot be extracted at first time)\n",
        "MAX_RETRIES = 3            # Number of retries per chunk\n",
        "API_KEY = \"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\"\n",
        "BASE_DIR = \"/content/extracted\"  # Directory containing PDF files"
      ],
      "metadata": {
        "id": "5XgH6ElgCrVi"
      },
      "execution_count": 8,
      "outputs": []
    },
    {
      "cell_type": "code",
      "source": [
        "def extract_text_pypdf2(pdf_path):\n",
        "    \"\"\"Extract text from a PDF using PyPDF2.\"\"\"\n",
        "    text = \"\"\n",
        "    with open(pdf_path, \"rb\") as f:\n",
        "        reader = PdfReader(f)\n",
        "        for page in reader.pages:\n",
        "            page_text = page.extract_text() or \"\"\n",
        "            text += page_text + \"\\n\"\n",
        "    return text"
      ],
      "metadata": {
        "id": "7Tt7ETrGdsh0"
      },
      "execution_count": 9,
      "outputs": []
    },
    {
      "cell_type": "code",
      "source": [
        "def extract_text_ocr(pdf_path, dpi=300):\n",
        "    \"\"\"Extract text from a PDF using OCR.\"\"\"\n",
        "    text = \"\"\n",
        "    pages = convert_from_path(pdf_path, dpi=dpi)\n",
        "    for page in pages:\n",
        "        ocr_data = pytesseract.image_to_data(page, output_type=Output.DICT)\n",
        "        page_text = \" \".join(t for t in ocr_data['text'] if t.strip())\n",
        "        text += page_text + \"\\n\"\n",
        "    return text"
      ],
      "metadata": {
        "id": "AvdH_Hwyr3Ba"
      },
      "execution_count": null,
      "outputs": []
    },
    {
      "cell_type": "code",
      "source": [
        "def chunk_text(text, max_length=MAX_CHUNK_SIZE):\n",
        "    \"\"\"Split text into chunks of at most max_length while trying to end on sentence boundaries.\"\"\"\n",
        "    chunks = []\n",
        "    current_chunk = \"\"\n",
        "    # Split text roughly by sentences\n",
        "    sentences = re.split('([.!?]\\s+)', text)\n",
        "    for sentence in sentences:\n",
        "        if len(current_chunk) + len(sentence) <= max_length:\n",
        "            current_chunk += sentence\n",
        "        else:\n",
        "            if current_chunk:\n",
        "                chunks.append(current_chunk.strip())\n",
        "            current_chunk = sentence\n",
        "    if current_chunk:\n",
        "        chunks.append(current_chunk.strip())\n",
        "    return chunks"
      ],
      "metadata": {
        "id": "IuPXIQo1dxo8"
      },
      "execution_count": 10,
      "outputs": []
    },
    {
      "cell_type": "code",
      "source": [
        "PROMPT_TEMPLATE = \"\"\"\n",
        "Extract invoice data from this text chunk. Map to these columns:\n",
        "taxable_value, sgst_amount, cgst_amount, igst_amount, sgst_rate, cgst_rate, igst_rate,\n",
        "tax_amount, tax_rate, final_amount, invoice_number, invoice_date, place_of_supply,\n",
        "place_of_origin, gstin_supplier, gstin_recipient\n",
        "\n",
        "Text chunk:\n",
        "{text_chunk}\n",
        "\n",
        "Return only a JSON dictionary with these exact keys. Use an empty string for missing values.\n",
        "\"\"\""
      ],
      "metadata": {
        "id": "0YO8R_22d0l_"
      },
      "execution_count": 11,
      "outputs": []
    },
    {
      "cell_type": "code",
      "source": [
        "def process_chunk(chunk, model):\n",
        "    prompt = PROMPT_TEMPLATE.format(text_chunk=chunk)\n",
        "    messages = [HumanMessage(content=prompt)]\n",
        "    response = model(messages, max_tokens=1024)\n",
        "    # Try to extract a JSON dictionary from the response\n",
        "    match = re.search(r'\\{.*\\}', response.content, re.DOTALL)\n",
        "    if match:\n",
        "        return json.loads(match.group())\n",
        "    return {}"
      ],
      "metadata": {
        "id": "EMiiuF5jd35j"
      },
      "execution_count": 12,
      "outputs": []
    },
    {
      "cell_type": "code",
      "source": [
        "def process_chunk_with_retries(chunk, model):\n",
        "    for i in range(MAX_RETRIES):\n",
        "        result = process_chunk(chunk, model)\n",
        "        if result:\n",
        "            return result\n",
        "        time.sleep(RETRY_DELAY)\n",
        "    return {\"error\": f\"Failed after {MAX_RETRIES} attempts\"}"
      ],
      "metadata": {
        "id": "PUXmV6bUd6Fv"
      },
      "execution_count": 13,
      "outputs": []
    },
    {
      "cell_type": "code",
      "source": [
        "def merge_results(results):\n",
        "    \"\"\"Merge the dictionary results from all chunks, preferring the first non-empty value.\"\"\"\n",
        "    merged = {}\n",
        "    if not results:\n",
        "        return merged\n",
        "    for key in results[0]:\n",
        "        for res in results:\n",
        "            if res.get(key):\n",
        "                merged[key] = res[key]\n",
        "                break\n",
        "        else:\n",
        "            merged[key] = \"\"\n",
        "    return merged\n"
      ],
      "metadata": {
        "id": "oC02UPyQd76H"
      },
      "execution_count": 14,
      "outputs": []
    },
    {
      "cell_type": "code",
      "source": [
        "def process_invoice(pdf_path, model):\n",
        "    \"\"\"Extract text (using PyPDF2 or OCR), chunk it, and process each chunk with the model.\"\"\"\n",
        "    text = extract_text_pypdf2(pdf_path)\n",
        "    if len(text) < MIN_TEXT_LENGTH:\n",
        "        text = extract_text_ocr(pdf_path)\n",
        "    chunks = chunk_text(text)\n",
        "    results = []\n",
        "    for chunk in chunks:\n",
        "        result = process_chunk_with_retries(chunk, model)\n",
        "        if \"error\" not in result:\n",
        "            results.append(result)\n",
        "        time.sleep(2)\n",
        "    return merge_results(results) if results else {\"error\": \"No valid results\"}"
      ],
      "metadata": {
        "id": "MnvaBZmLd_IF"
      },
      "execution_count": 15,
      "outputs": []
    },
    {
      "cell_type": "code",
      "source": [
        "def main():\n",
        "    model = ChatGroq(model_name=\"gemma2-9b-it\", temperature=0.75, api_key=API_KEY)\n",
        "    invoice_results = []\n",
        "    pdf_files = [os.path.join(root, file)\n",
        "                 for root, _, files in os.walk(BASE_DIR)\n",
        "                 for file in files if file.lower().endswith('.pdf')]\n",
        "\n",
        "    for pdf_path in tqdm(pdf_files, desc=\"Processing PDFs\"):\n",
        "        result = process_invoice(pdf_path, model)\n",
        "        result[\"file_name\"] = os.path.basename(pdf_path)\n",
        "        invoice_results.append(result)\n",
        "\n",
        "    if invoice_results:\n",
        "        pd.DataFrame(invoice_results).to_csv(\"extracted_invoices.csv\", index=False)\n",
        "        print(\"Extraction complete. Results saved to extracted_invoices.csv.\")\n",
        "\n",
        "if __name__ == \"__main__\":\n",
        "    main()"
      ],
      "metadata": {
        "colab": {
          "base_uri": "https://localhost:8080/"
        },
        "id": "rDPbLtz2eCPJ",
        "outputId": "ffb2d080-1368-4ae1-adf1-619175f82165"
      },
      "execution_count": 16,
      "outputs": [
        {
          "output_type": "stream",
          "name": "stderr",
          "text": [
            "\rProcessing PDFs:   0%|          | 0/76 [00:00<?, ?it/s]<ipython-input-12-82c11d3edfa1>:4: LangChainDeprecationWarning: The method `BaseChatModel.__call__` was deprecated in langchain-core 0.1.7 and will be removed in 1.0. Use :meth:`~invoke` instead.\n",
            "  response = model(messages, max_tokens=1024)\n",
            "Processing PDFs: 100%|██████████| 76/76 [04:42<00:00,  3.72s/it]"
          ]
        },
        {
          "output_type": "stream",
          "name": "stdout",
          "text": [
            "Extraction complete. Results saved to extracted_invoices.csv.\n"
          ]
        },
        {
          "output_type": "stream",
          "name": "stderr",
          "text": [
            "\n"
          ]
        }
      ]
    },
    {
      "cell_type": "code",
      "source": [],
      "metadata": {
        "id": "mJZHnr97eF2w"
      },
      "execution_count": null,
      "outputs": []
    }
  ]
}